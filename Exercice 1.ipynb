{
 "cells": [
  {
   "cell_type": "code",
   "execution_count": null,
   "id": "5dc3b7ba",
   "metadata": {},
   "outputs": [],
   "source": [
    "List=[]\n",
    "for seq in range(2000 , 3201):\n",
    "    if seq % 7 == 0 and seq % 5 != 0:\n",
    "        x=seq\n",
    "        List.append(x)\n",
    "print(List)"
   ]
  },
  {
   "cell_type": "code",
   "execution_count": 1,
   "id": "3dd71d54",
   "metadata": {},
   "outputs": [],
   "source": [
    "def factorielle(n):\n",
    "    if n == 0:\n",
    "        return 1\n",
    "    else:\n",
    "        F = 1\n",
    "        for k in range(2,n+1):\n",
    "            F = F * k\n",
    "        return F\n",
    "    "
   ]
  },
  {
   "cell_type": "code",
   "execution_count": null,
   "id": "ef5dc767",
   "metadata": {},
   "outputs": [],
   "source": [
    "d={}\n",
    "n=int(input(\"donner la longeur\"))\n",
    "def q3 (n):\n",
    "  for i in range (1,n+1):\n",
    "    d[i]=i*i\n",
    "  print(d)\n",
    "\n",
    "q3(n)\n"
   ]
  },
  {
   "cell_type": "code",
   "execution_count": null,
   "id": "52135f73",
   "metadata": {},
   "outputs": [],
   "source": [
    "n=int(input())\n",
    "dico={}\n",
    "for i in range(n+1):\n",
    "    dico[i]=i*i \n",
    "dico"
   ]
  },
  {
   "cell_type": "code",
   "execution_count": null,
   "id": "32b8919b",
   "metadata": {},
   "outputs": [],
   "source": [
    "ch=input(\"Donner votre chaine\")\n",
    "n=int(input(\"Donner l'indexe à supprimer\"))\n",
    "if n<len(ch):\n",
    "    ch1= ch[:n]+ch[(n+1):]\n",
    "  print(ch1)\n",
    "else :\n",
    "print(\"l'indexe n'existe pas\")\n",
    "\n"
   ]
  },
  {
   "cell_type": "code",
   "execution_count": null,
   "id": "06ba6692",
   "metadata": {},
   "outputs": [],
   "source": [
    "import numpy as np\n",
    "matrice = np.random.randint(1,10,(3,3))\n",
    "L1=matrice.tolist()\n",
    "print(L1)\n"
   ]
  },
  {
   "cell_type": "code",
   "execution_count": null,
   "id": "c2609114",
   "metadata": {},
   "outputs": [],
   "source": []
  }
 ],
 "metadata": {
  "kernelspec": {
   "display_name": "Python 3",
   "language": "python",
   "name": "python3"
  },
  "language_info": {
   "codemirror_mode": {
    "name": "ipython",
    "version": 3
   },
   "file_extension": ".py",
   "mimetype": "text/x-python",
   "name": "python",
   "nbconvert_exporter": "python",
   "pygments_lexer": "ipython3",
   "version": "3.8.8"
  }
 },
 "nbformat": 4,
 "nbformat_minor": 5
}
