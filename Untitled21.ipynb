{
 "cells": [
  {
   "cell_type": "code",
   "execution_count": 2,
   "id": "e7a3abcf",
   "metadata": {},
   "outputs": [],
   "source": [
    "#Importing our dataset from csv file\n",
    "import pandas as pd \n",
    "dataset=pd.read_csv(\"titanic-passengers.csv\", sep=\";\")\n",
    "\n",
    "#Preprocessing our data\n",
    "def preprocess_data(new_data):\n",
    "    new_data['Age'].fillna(new_data['Age'].mean(),inplace=True)\n",
    "    new_data.replace({'Sex':{'male': 1,'female':0}},inplace=True)\n",
    "    new_data['Cabin']=new_data.Cabin.fillna('G6')\n",
    "    new_data.replace({'Survived':{'Yes': 1,'No':0}},inplace=True)\n",
    "    return new_data\n",
    "data=preprocess_data(dataset)"
   ]
  },
  {
   "cell_type": "code",
   "execution_count": 3,
   "id": "c8169034",
   "metadata": {},
   "outputs": [
    {
     "name": "stdout",
     "output_type": "stream",
     "text": [
      "score:0.7653631284916201\n"
     ]
    }
   ],
   "source": [
    "from sklearn.model_selection import train_test_split\n",
    "from sklearn import tree   \n",
    "from sklearn.tree import DecisionTreeClassifier\n",
    "from sklearn.metrics import accuracy_score\n",
    "x=data.drop([\"Survived\", \"Name\", \"Cabin\", \"Ticket\", \"Embarked\"], axis=1)\n",
    "y= data[\"Survived\"]\n",
    "\n",
    "#splitting data\n",
    "x_train, x_test, y_train, y_test = train_test_split(x,y, test_size=0.20,random_state=10)\n",
    "\n",
    "#applying tree algorithm\n",
    "tree = tree.DecisionTreeClassifier()  \n",
    "tree.fit(x_train, y_train)   #fitting our model\n",
    "y_pred=tree.predict(x_test)   # evaluating our model\n",
    "print(\"score:{}\".format(accuracy_score(y_test, y_pred)))"
   ]
  },
  {
   "cell_type": "code",
   "execution_count": 124,
   "id": "58a4f739",
   "metadata": {},
   "outputs": [
    {
     "name": "stdout",
     "output_type": "stream",
     "text": [
      "digraph Tree {\n",
      "node [shape=box] ;\n",
      "0 [label=\"X[3] <= 0.8\\ngini = 0.665\\nsamples = 105\\nvalue = [37, 36, 32]\"] ;\n",
      "1 [label=\"gini = 0.0\\nsamples = 37\\nvalue = [37, 0, 0]\"] ;\n",
      "0 -> 1 [labeldistance=2.5, labelangle=45, headlabel=\"True\"] ;\n",
      "2 [label=\"X[2] <= 4.85\\ngini = 0.498\\nsamples = 68\\nvalue = [0, 36, 32]\"] ;\n",
      "0 -> 2 [labeldistance=2.5, labelangle=-45, headlabel=\"False\"] ;\n",
      "3 [label=\"X[3] <= 1.7\\ngini = 0.054\\nsamples = 36\\nvalue = [0, 35, 1]\"] ;\n",
      "2 -> 3 ;\n",
      "4 [label=\"gini = 0.0\\nsamples = 34\\nvalue = [0, 34, 0]\"] ;\n",
      "3 -> 4 ;\n",
      "5 [label=\"X[1] <= 3.0\\ngini = 0.5\\nsamples = 2\\nvalue = [0, 1, 1]\"] ;\n",
      "3 -> 5 ;\n",
      "6 [label=\"gini = 0.0\\nsamples = 1\\nvalue = [0, 0, 1]\"] ;\n",
      "5 -> 6 ;\n",
      "7 [label=\"gini = 0.0\\nsamples = 1\\nvalue = [0, 1, 0]\"] ;\n",
      "5 -> 7 ;\n",
      "8 [label=\"X[3] <= 1.75\\ngini = 0.061\\nsamples = 32\\nvalue = [0, 1, 31]\"] ;\n",
      "2 -> 8 ;\n",
      "9 [label=\"X[0] <= 6.5\\ngini = 0.375\\nsamples = 4\\nvalue = [0, 1, 3]\"] ;\n",
      "8 -> 9 ;\n",
      "10 [label=\"gini = 0.0\\nsamples = 3\\nvalue = [0, 0, 3]\"] ;\n",
      "9 -> 10 ;\n",
      "11 [label=\"gini = 0.0\\nsamples = 1\\nvalue = [0, 1, 0]\"] ;\n",
      "9 -> 11 ;\n",
      "12 [label=\"gini = 0.0\\nsamples = 28\\nvalue = [0, 0, 28]\"] ;\n",
      "8 -> 12 ;\n",
      "}\n",
      "\n"
     ]
    }
   ],
   "source": [
    "from sklearn.tree import export_graphviz\n",
    "#from sklearn.externals.six import StringIO  \n",
    "from IPython.display import Image  \n",
    "\n",
    "from sklearn.model_selection import train_test_split\n",
    "from sklearn import tree\n",
    "from sklearn.tree import DecisionTreeClassifier\n",
    "from sklearn.metrics import accuracy_score\n",
    "from IPython.display import display\n",
    "from  graphviz import Source\n",
    "\n",
    "\n",
    "#classifier=DecisionTreeClassifier()\n",
    "classifier = classifier.fit(x_train,y_train)\n",
    "dot_data = tree.export_graphviz( classifier, out_file=None )\n",
    "\n",
    "#graph=graphviz.Source()\n",
    "\n",
    "#graph.render(\"data\")\n",
    "#graph\n",
    "\n",
    "path = \"data\"\n",
    "s = Source.from_file(path)\n",
    "print(s.source)\n",
    "\n",
    "#s.render( format='jpg',view=True)"
   ]
  },
  {
   "cell_type": "code",
   "execution_count": 122,
   "id": "b2f388c9",
   "metadata": {},
   "outputs": [
    {
     "data": {
      "text/plain": [
       "DecisionTreeClassifier(max_depth=5, max_leaf_nodes=10, min_samples_leaf=5,\n",
       "                       splitter='random')"
      ]
     },
     "execution_count": 122,
     "metadata": {},
     "output_type": "execute_result"
    }
   ],
   "source": [
    "dtree=tree.DecisionTreeClassifier(criterion=\"gini\",splitter='random',max_leaf_nodes=10,\n",
    "                                  min_samples_leaf=5,max_depth=5)\n",
    "dtree"
   ]
  },
  {
   "cell_type": "code",
   "execution_count": 19,
   "id": "54887eb8",
   "metadata": {},
   "outputs": [
    {
     "name": "stdout",
     "output_type": "stream",
     "text": [
      "Accuracy: 0.9333333333333333\n"
     ]
    }
   ],
   "source": [
    "clf=RandomForestClassifier(n_estimators=10)  #Creating a random forest with 100 decision trees\n",
    "clf.fit(x_train, y_train)  #Training our model\n",
    "y_pred=clf.predict(x_test)  #testing our model\n",
    "print(\"Accuracy:\", metrics.accuracy_score(y_test, y_pred))  #Measuring the accuracy of our model"
   ]
  },
  {
   "cell_type": "code",
   "execution_count": 129,
   "id": "85132e95",
   "metadata": {},
   "outputs": [],
   "source": [
    "#Importing our dataset from csv file\n",
    "import pandas as pd \n",
    "dataset=pd.read_csv(\"titanic-passengers.csv\", sep=\";\")\n",
    "\n",
    "#Preprocessing our data\n",
    "def preprocess_data(new_data):\n",
    "    new_data['Age'].fillna(new_data['Age'].mean(),inplace=True)\n",
    "    new_data.replace({'Sex':{'male': 1,'female':0}},inplace=True)\n",
    "    new_data['Cabin']=new_data.Cabin.fillna('G6')\n",
    "    new_data.replace({'Survived':{'Yes': 1,'No':0}},inplace=True)\n",
    "    return new_data\n",
    "data=preprocess_data(dataset)"
   ]
  },
  {
   "cell_type": "code",
   "execution_count": 135,
   "id": "e7ba7ad3",
   "metadata": {},
   "outputs": [
    {
     "name": "stdout",
     "output_type": "stream",
     "text": [
      "score:1.0\n"
     ]
    }
   ],
   "source": [
    "from sklearn.model_selection import train_test_split\n",
    "from sklearn import tree   \n",
    "from sklearn.tree import DecisionTreeClassifier\n",
    "from sklearn.metrics import accuracy_score\n",
    "x=data.drop([\"Age\", \"Name\", \"Cabin\", \"Ticket\", \"Embarked\"], axis=1)\n",
    "y= data[\"Survived\"]\n",
    "\n",
    "#splitting data\n",
    "x_train, x_test, y_train, y_test = train_test_split(x,y, test_size=0.20,random_state=10)\n",
    "\n",
    "#applying tree algorithm\n",
    "tree = tree.DecisionTreeClassifier()  \n",
    "tree.fit(x_train, y_train)   #fitting our model\n",
    "y_pred=tree.predict(x_test)   # evaluating our model\n",
    "print(\"score:{}\".format(accuracy_score(y_test, y_pred)))"
   ]
  },
  {
   "cell_type": "code",
   "execution_count": 178,
   "id": "fc7aee34",
   "metadata": {},
   "outputs": [
    {
     "name": "stdout",
     "output_type": "stream",
     "text": [
      "Index(['PassengerId;Survived;Pclass;Name;Sex;Age;SibSp;Parch;Ticket;Fare;Cabin;Embarked'], dtype='object')\n",
      "        Survived                                               Name  \\\n",
      "Age            0                         Collander, Mr. Erik Gustaf   \n",
      "Name           0                            Moen, Mr. Sigurd Hansen   \n",
      "Cabin          0                             Jensen, Mr. Hans Peder   \n",
      "Ticket         0        Palsson, Mrs. Nils (Alma Cornelia Berglund)   \n",
      "4              0                             Davidson, Mr. Thornton   \n",
      "...          ...                                                ...   \n",
      "886            1                Nasser, Mrs. Nicholas (Adele Achem)   \n",
      "887            0                              Sirayanian, Mr. Orsen   \n",
      "888            0                                Cacic, Miss. Marija   \n",
      "889            0                   Petroff, Mr. Pastcho (\"Pentcho\")   \n",
      "890            1  Phillips, Miss. Kate Florence (\"Mrs Kate Louis...   \n",
      "\n",
      "              Age      Ticket  Cabin  \n",
      "Age     28.000000      248740     G6  \n",
      "Name    25.000000      348123  F G73  \n",
      "Cabin   20.000000      350050     G6  \n",
      "Ticket  29.000000      349909     G6  \n",
      "4       31.000000  F.C. 12750    B71  \n",
      "...           ...         ...    ...  \n",
      "886     14.000000      237736     G6  \n",
      "887     22.000000        2669     G6  \n",
      "888     30.000000      315084     G6  \n",
      "889     29.699118      349215     G6  \n",
      "890     19.000000      250655     G6  \n",
      "\n",
      "[891 rows x 5 columns]\n"
     ]
    }
   ],
   "source": [
    "from sklearn import datasets\n",
    "import pandas as pd\n",
    "from sklearn.model_selection import train_test_split\n",
    "from sklearn.ensemble import RandomForestClassifier #Importing Random Forest Classifier\n",
    "from sklearn import metrics  # Importing metrics to test accuracy\n",
    "\n",
    "titanic = pd.read_csv(\"titanic-passengers.csv\")\n",
    "\n",
    "print(titanic.columns)\n",
    "data.drop(['PassengerId', 'Pclass','Sex','SibSp','Parch','Fare','Embarked'], axis = 1, inplace = True)\n",
    "#data.rename(index = {0: 'Age', 1: 'Name', 2:'Cabin', 3:'Ticket'}, inplace = True)\n",
    "print(data)\n",
    "#titanic=pd.DataFrame({\n",
    "#'Age': titanic.columns[:,0],\n",
    "#'Name': titanic.data[:,1],\n",
    "#'Cabin': titanic.data[:,2],\n",
    "#'Ticket': titanic.data[:,3], \n",
    "#'Survived': titanic.target\n",
    "#})\n",
    "\n",
    "X=data[['Age', 'Name', 'Cabin', 'Ticket']] #features\n",
    "y=data['Survived']  #target\n",
    "x_train, x_test, y_train, y_test= train_test_split(X, y, test_size=0.3) #splitting data with test size of 30%"
   ]
  },
  {
   "cell_type": "code",
   "execution_count": 182,
   "id": "f660c196",
   "metadata": {},
   "outputs": [
    {
     "name": "stdout",
     "output_type": "stream",
     "text": [
      "score:1.0\n",
      "Accuracy: 1.0\n"
     ]
    }
   ],
   "source": [
    "from sklearn.model_selection import train_test_split\n",
    "from sklearn import tree   \n",
    "from sklearn.tree import DecisionTreeClassifier\n",
    "from sklearn.metrics import accuracy_score\n",
    "x=data.drop([\"Age\", \"Name\", \"Cabin\", \"Ticket\"], axis=1)\n",
    "y= data[\"Survived\"]\n",
    "\n",
    "#splitting data\n",
    "x_train, x_test, y_train, y_test = train_test_split(x,y, test_size=0.20,random_state=10)\n",
    "#applying tree algorithm\n",
    "tree = tree.DecisionTreeClassifier()  \n",
    "tree.fit(x_train, y_train)   #fitting our model\n",
    "y_pred=tree.predict(x_test)   # evaluating our model\n",
    "print(\"score:{}\".format(accuracy_score(y_test, y_pred)))\n",
    "\n",
    "clf=RandomForestClassifier(n_estimators=30)  #Creating a random forest with 100 decision trees\n",
    "clf.fit(x_train, y_train)  #Training our model\n",
    "y_pred=clf.predict(x_test)  #testing our model\n",
    "print(\"Accuracy:\", metrics.accuracy_score(y_test, y_pred))  #Measuring the accuracy of our model"
   ]
  },
  {
   "cell_type": "code",
   "execution_count": null,
   "id": "ed859a18",
   "metadata": {},
   "outputs": [],
   "source": []
  }
 ],
 "metadata": {
  "kernelspec": {
   "display_name": "Python 3",
   "language": "python",
   "name": "python3"
  },
  "language_info": {
   "codemirror_mode": {
    "name": "ipython",
    "version": 3
   },
   "file_extension": ".py",
   "mimetype": "text/x-python",
   "name": "python",
   "nbconvert_exporter": "python",
   "pygments_lexer": "ipython3",
   "version": "3.8.8"
  }
 },
 "nbformat": 4,
 "nbformat_minor": 5
}
